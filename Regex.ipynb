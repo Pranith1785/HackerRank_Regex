{
 "cells": [
  {
   "cell_type": "code",
   "execution_count": 1,
   "metadata": {},
   "outputs": [],
   "source": [
    "import re"
   ]
  },
  {
   "cell_type": "code",
   "execution_count": 13,
   "metadata": {},
   "outputs": [],
   "source": [
    "txt = \"foo\""
   ]
  },
  {
   "cell_type": "code",
   "execution_count": 16,
   "metadata": {},
   "outputs": [
    {
     "name": "stdout",
     "output_type": "stream",
     "text": [
      "['foo', 'foo', 'foo', 'foo', 'foo', 'foo']\n"
     ]
    }
   ],
   "source": [
    "print(re.findall(r'((?<!\\w){0}(?!\\w))'.format(txt), \"foo bar (foo) bar foo-bar foo_bar foo'bar bar-foo bar, foo.\"))"
   ]
  },
  {
   "cell_type": "markdown",
   "metadata": {},
   "source": [
    "###  Domain Name from html"
   ]
  },
  {
   "cell_type": "code",
   "execution_count": 54,
   "metadata": {},
   "outputs": [
    {
     "name": "stdout",
     "output_type": "stream",
     "text": [
      "1\n",
      "(http://www.askoxford.com/concise_oed/train?view=uk)\n",
      "askoxford.com\n"
     ]
    }
   ],
   "source": [
    "domain = set()\n",
    "for _ in range(int(input())):\n",
    "    match = re.findall(r'https?://(?:www\\.|ww2\\.)?(([\\w\\-]+\\.)+[a-zA-Z0-9]+)/?',input())\n",
    "    for url in match:\n",
    "        domain.add(url[0])\n",
    "print(\";\".join(x for x in sorted(domain)))"
   ]
  },
  {
   "cell_type": "markdown",
   "metadata": {},
   "source": [
    "### Detect HTML Attributes"
   ]
  },
  {
   "cell_type": "code",
   "execution_count": 70,
   "metadata": {},
   "outputs": [],
   "source": [
    "tag_dict = {}"
   ]
  },
  {
   "cell_type": "code",
   "execution_count": 71,
   "metadata": {},
   "outputs": [],
   "source": [
    "txt = '<p><li id=\"n-randompage\"><a href=\"/wiki/Special:Random\" title=\"Load a random article [x]\" accesskey=\"x\">Random article</a></li>'"
   ]
  },
  {
   "cell_type": "code",
   "execution_count": 75,
   "metadata": {},
   "outputs": [
    {
     "data": {
      "text/plain": [
       "[('a', ''), ('', 'href'), ('', 'title'), ('', 'accesskey')]"
      ]
     },
     "execution_count": 75,
     "metadata": {},
     "output_type": "execute_result"
    }
   ],
   "source": [
    "re.findall(r'<([a-z]+)|\\s([a-z]+)=','<a href=\"/wiki/Special:Random\" title=\"Load a random article [x]\" accesskey=\"x\">')"
   ]
  },
  {
   "cell_type": "code",
   "execution_count": 72,
   "metadata": {},
   "outputs": [],
   "source": [
    "nt = re.findall(r'<[^/].*?>',txt)\n",
    "for e_t in nt:\n",
    "    values = re.findall(r'<([a-z]+)[\\s>]|([a-z]+)=',e_t)\n",
    "    values = [y for x in values for y in x if len(y)>0]\n",
    "    if values[0] not in tag_dict.keys():\n",
    "        tag_dict[values[0]] = set()\n",
    "    for val in values[1:]:\n",
    "        tag_dict[values[0]].add(val)"
   ]
  },
  {
   "cell_type": "code",
   "execution_count": 73,
   "metadata": {},
   "outputs": [
    {
     "data": {
      "text/plain": [
       "{'p': set(), 'li': {'id'}, 'a': {'accesskey', 'href', 'title'}}"
      ]
     },
     "execution_count": 73,
     "metadata": {},
     "output_type": "execute_result"
    }
   ],
   "source": [
    "tag_dict"
   ]
  },
  {
   "cell_type": "code",
   "execution_count": 69,
   "metadata": {},
   "outputs": [
    {
     "name": "stdout",
     "output_type": "stream",
     "text": [
      "li:id\n",
      "a:accesskey,href,title\n"
     ]
    }
   ],
   "source": [
    "for key,value in tag_dict.items():\n",
    "    txt = \"\"\n",
    "    txt += key+\":\"\n",
    "    if len(value)>0:\n",
    "        txt += \",\".join(v for v in sorted(value))\n",
    "    print(txt)"
   ]
  },
  {
   "cell_type": "code",
   "execution_count": 41,
   "metadata": {},
   "outputs": [
    {
     "data": {
      "text/plain": [
       "{'a': {'href', 'title'}, 'p': set()}"
      ]
     },
     "execution_count": 41,
     "metadata": {},
     "output_type": "execute_result"
    }
   ],
   "source": [
    "tag_dict"
   ]
  },
  {
   "cell_type": "markdown",
   "metadata": {},
   "source": [
    "### Building a Smart IDE: Identifying comments"
   ]
  },
  {
   "cell_type": "code",
   "execution_count": 78,
   "metadata": {},
   "outputs": [],
   "source": [
    "txt = \"\"\"// my  program in C++\n",
    "\n",
    "#include <iostream>\n",
    "/** playing around in\n",
    "a new programming language **/\n",
    "using namespace std;\n",
    "\n",
    "int main ()\n",
    "{\n",
    "  cout << \"Hello World\";\n",
    "  cout << \"I'm a C++ program\"; //use cout\n",
    "  return 0;\n",
    "}\"\"\"\n",
    "\n",
    "\n",
    "## ?s -  to identify any character including new line character\n",
    "## ?m -  to identify as multiline characters\n",
    "pattern = r\"(?s)(?m)(//.*?$|/\\*.*?\\*/)\"\n",
    "values = re.findall(pattern, txt)"
   ]
  },
  {
   "cell_type": "code",
   "execution_count": 83,
   "metadata": {},
   "outputs": [
    {
     "name": "stdout",
     "output_type": "stream",
     "text": [
      "// my  program in C++\n",
      "/** playing around in\n",
      "a new programming language **/\n",
      "//use cout\n"
     ]
    }
   ],
   "source": [
    "for val in values:\n",
    "    print(re.sub(r\"\\n\\s+\", \"\\n\", val))"
   ]
  },
  {
   "cell_type": "markdown",
   "metadata": {},
   "source": [
    "### Building a Smart IDE: Programming Language Detection"
   ]
  },
  {
   "cell_type": "code",
   "execution_count": 85,
   "metadata": {},
   "outputs": [],
   "source": [
    "import sys"
   ]
  },
  {
   "cell_type": "code",
   "execution_count": 86,
   "metadata": {},
   "outputs": [],
   "source": [
    "txt = \"\"\"\n",
    "     import java.io.*;\n",
    "    public class SquareNum {\n",
    "       public static void main(String args[]) throws IOException\n",
    "       {\n",
    "          System.out.println(\"This is a small Java Program!\");\n",
    "       }\n",
    "    }\n",
    "\"\"\""
   ]
  },
  {
   "cell_type": "code",
   "execution_count": 88,
   "metadata": {},
   "outputs": [
    {
     "name": "stdout",
     "output_type": "stream",
     "text": [
      "                                             \\n import java.io.*;     public class SquareNum {        public static void main(String args[]) throws IOException        {           System.out.println(\"This is a small Java Program!\");        }     }\n",
      "Java\n"
     ]
    }
   ],
   "source": [
    "txt = input()\n",
    "if \"#include\" in txt:\n",
    "    print(\"C\")\n",
    "elif \"import java\" in txt:\n",
    "    print(\"Java\")\n",
    "else:\n",
    "    print(\"Python\")\n"
   ]
  },
  {
   "cell_type": "markdown",
   "metadata": {},
   "source": [
    "### Detect HTML links"
   ]
  },
  {
   "cell_type": "code",
   "execution_count": 1,
   "metadata": {},
   "outputs": [],
   "source": [
    "import re\n",
    "txt = '<li style=\"-moz-float-edge: content-box\">Former Italian Prime Minister <a href=\"/wiki/Silvio_Berlusconi\" title=\"Silvio Berlusconi\">Silvio Berlusconi</a> <i>(pictured)</i> is <b><a href=\"/wiki/Silvio_Berlusconi_underage_prostitution_charges\" title=\"Silvio Berlusconi underage prostitution charges\">found guilty</a></b> of paying for sex with an underage prostitute.</li>'"
   ]
  },
  {
   "cell_type": "code",
   "execution_count": 2,
   "metadata": {},
   "outputs": [
    {
     "data": {
      "text/plain": [
       "[('/wiki/Silvio_Berlusconi', 'Silvio Berlusconi'),\n",
       " ('/wiki/Silvio_Berlusconi_underage_prostitution_charges', 'found guilty')]"
      ]
     },
     "execution_count": 2,
     "metadata": {},
     "output_type": "execute_result"
    }
   ],
   "source": [
    "re.findall('<a href=\\\"(.*?)\\\".*?>([^<]*)(?=<\\/)', txt)"
   ]
  },
  {
   "cell_type": "code",
   "execution_count": 149,
   "metadata": {},
   "outputs": [
    {
     "name": "stdout",
     "output_type": "stream",
     "text": [
      "/wiki/File:Female_and_male_Pardalotus_punctatus.jpg,\n"
     ]
    }
   ],
   "source": [
    "for _ in range(int(input())):\n",
    "    html_tag = input()\n",
    "    urlLinks = re.findall('<a href=\\\"(.*?)\\\".*?>([^<]*)(?=<\\/)', html_tag)\n",
    "    for link in urlLinks:\n",
    "        print(link[0]+\",\"+link[1].strip())"
   ]
  }
 ],
 "metadata": {
  "kernelspec": {
   "display_name": "Python 3",
   "language": "python",
   "name": "python3"
  },
  "language_info": {
   "codemirror_mode": {
    "name": "ipython",
    "version": 3
   },
   "file_extension": ".py",
   "mimetype": "text/x-python",
   "name": "python",
   "nbconvert_exporter": "python",
   "pygments_lexer": "ipython3",
   "version": "3.7.4"
  }
 },
 "nbformat": 4,
 "nbformat_minor": 2
}
